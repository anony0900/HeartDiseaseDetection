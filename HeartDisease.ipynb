{
 "cells": [
  {
   "cell_type": "code",
   "execution_count": 1,
   "metadata": {
    "executionInfo": {
     "elapsed": 621,
     "status": "ok",
     "timestamp": 1694113794487,
     "user": {
      "displayName": "Alokkumar Bharti",
      "userId": "02061744428922965256"
     },
     "user_tz": -330
    },
    "id": "O3krVNjga327"
   },
   "outputs": [],
   "source": [
    "import pandas as pd"
   ]
  },
  {
   "cell_type": "code",
   "execution_count": 2,
   "metadata": {
    "executionInfo": {
     "elapsed": 555,
     "status": "ok",
     "timestamp": 1694113795584,
     "user": {
      "displayName": "Alokkumar Bharti",
      "userId": "02061744428922965256"
     },
     "user_tz": -330
    },
    "id": "Ec4ZfwKQbQkX"
   },
   "outputs": [],
   "source": [
    "dataset = pd.read_csv(\"heart.csv\")"
   ]
  },
  {
   "cell_type": "code",
   "execution_count": 3,
   "metadata": {
    "colab": {
     "base_uri": "https://localhost:8080/",
     "height": 443
    },
    "executionInfo": {
     "elapsed": 26,
     "status": "ok",
     "timestamp": 1694113797544,
     "user": {
      "displayName": "Alokkumar Bharti",
      "userId": "02061744428922965256"
     },
     "user_tz": -330
    },
    "id": "Mcx2iaf6cFP8",
    "outputId": "2aff3799-6ef8-450c-c603-4d4c0d9b570e"
   },
   "outputs": [
    {
     "data": {
      "text/html": [
       "<div>\n",
       "<style scoped>\n",
       "    .dataframe tbody tr th:only-of-type {\n",
       "        vertical-align: middle;\n",
       "    }\n",
       "\n",
       "    .dataframe tbody tr th {\n",
       "        vertical-align: top;\n",
       "    }\n",
       "\n",
       "    .dataframe thead th {\n",
       "        text-align: right;\n",
       "    }\n",
       "</style>\n",
       "<table border=\"1\" class=\"dataframe\">\n",
       "  <thead>\n",
       "    <tr style=\"text-align: right;\">\n",
       "      <th></th>\n",
       "      <th>Age</th>\n",
       "      <th>Sex</th>\n",
       "      <th>ChestPainType</th>\n",
       "      <th>RestingBP</th>\n",
       "      <th>Cholesterol</th>\n",
       "      <th>FastingBS</th>\n",
       "      <th>RestingECG</th>\n",
       "      <th>MaxHR</th>\n",
       "      <th>ExerciseAngina</th>\n",
       "      <th>Oldpeak</th>\n",
       "      <th>ST_Slope</th>\n",
       "      <th>HeartDisease</th>\n",
       "    </tr>\n",
       "  </thead>\n",
       "  <tbody>\n",
       "    <tr>\n",
       "      <th>0</th>\n",
       "      <td>40</td>\n",
       "      <td>M</td>\n",
       "      <td>ATA</td>\n",
       "      <td>140</td>\n",
       "      <td>289</td>\n",
       "      <td>0</td>\n",
       "      <td>Normal</td>\n",
       "      <td>172</td>\n",
       "      <td>N</td>\n",
       "      <td>0.0</td>\n",
       "      <td>Up</td>\n",
       "      <td>0</td>\n",
       "    </tr>\n",
       "    <tr>\n",
       "      <th>1</th>\n",
       "      <td>49</td>\n",
       "      <td>F</td>\n",
       "      <td>NAP</td>\n",
       "      <td>160</td>\n",
       "      <td>180</td>\n",
       "      <td>0</td>\n",
       "      <td>Normal</td>\n",
       "      <td>156</td>\n",
       "      <td>N</td>\n",
       "      <td>1.0</td>\n",
       "      <td>Flat</td>\n",
       "      <td>1</td>\n",
       "    </tr>\n",
       "    <tr>\n",
       "      <th>2</th>\n",
       "      <td>37</td>\n",
       "      <td>M</td>\n",
       "      <td>ATA</td>\n",
       "      <td>130</td>\n",
       "      <td>283</td>\n",
       "      <td>0</td>\n",
       "      <td>ST</td>\n",
       "      <td>98</td>\n",
       "      <td>N</td>\n",
       "      <td>0.0</td>\n",
       "      <td>Up</td>\n",
       "      <td>0</td>\n",
       "    </tr>\n",
       "    <tr>\n",
       "      <th>3</th>\n",
       "      <td>48</td>\n",
       "      <td>F</td>\n",
       "      <td>ASY</td>\n",
       "      <td>138</td>\n",
       "      <td>214</td>\n",
       "      <td>0</td>\n",
       "      <td>Normal</td>\n",
       "      <td>108</td>\n",
       "      <td>Y</td>\n",
       "      <td>1.5</td>\n",
       "      <td>Flat</td>\n",
       "      <td>1</td>\n",
       "    </tr>\n",
       "    <tr>\n",
       "      <th>4</th>\n",
       "      <td>54</td>\n",
       "      <td>M</td>\n",
       "      <td>NAP</td>\n",
       "      <td>150</td>\n",
       "      <td>195</td>\n",
       "      <td>0</td>\n",
       "      <td>Normal</td>\n",
       "      <td>122</td>\n",
       "      <td>N</td>\n",
       "      <td>0.0</td>\n",
       "      <td>Up</td>\n",
       "      <td>0</td>\n",
       "    </tr>\n",
       "    <tr>\n",
       "      <th>...</th>\n",
       "      <td>...</td>\n",
       "      <td>...</td>\n",
       "      <td>...</td>\n",
       "      <td>...</td>\n",
       "      <td>...</td>\n",
       "      <td>...</td>\n",
       "      <td>...</td>\n",
       "      <td>...</td>\n",
       "      <td>...</td>\n",
       "      <td>...</td>\n",
       "      <td>...</td>\n",
       "      <td>...</td>\n",
       "    </tr>\n",
       "    <tr>\n",
       "      <th>913</th>\n",
       "      <td>45</td>\n",
       "      <td>M</td>\n",
       "      <td>TA</td>\n",
       "      <td>110</td>\n",
       "      <td>264</td>\n",
       "      <td>0</td>\n",
       "      <td>Normal</td>\n",
       "      <td>132</td>\n",
       "      <td>N</td>\n",
       "      <td>1.2</td>\n",
       "      <td>Flat</td>\n",
       "      <td>1</td>\n",
       "    </tr>\n",
       "    <tr>\n",
       "      <th>914</th>\n",
       "      <td>68</td>\n",
       "      <td>M</td>\n",
       "      <td>ASY</td>\n",
       "      <td>144</td>\n",
       "      <td>193</td>\n",
       "      <td>1</td>\n",
       "      <td>Normal</td>\n",
       "      <td>141</td>\n",
       "      <td>N</td>\n",
       "      <td>3.4</td>\n",
       "      <td>Flat</td>\n",
       "      <td>1</td>\n",
       "    </tr>\n",
       "    <tr>\n",
       "      <th>915</th>\n",
       "      <td>57</td>\n",
       "      <td>M</td>\n",
       "      <td>ASY</td>\n",
       "      <td>130</td>\n",
       "      <td>131</td>\n",
       "      <td>0</td>\n",
       "      <td>Normal</td>\n",
       "      <td>115</td>\n",
       "      <td>Y</td>\n",
       "      <td>1.2</td>\n",
       "      <td>Flat</td>\n",
       "      <td>1</td>\n",
       "    </tr>\n",
       "    <tr>\n",
       "      <th>916</th>\n",
       "      <td>57</td>\n",
       "      <td>F</td>\n",
       "      <td>ATA</td>\n",
       "      <td>130</td>\n",
       "      <td>236</td>\n",
       "      <td>0</td>\n",
       "      <td>LVH</td>\n",
       "      <td>174</td>\n",
       "      <td>N</td>\n",
       "      <td>0.0</td>\n",
       "      <td>Flat</td>\n",
       "      <td>1</td>\n",
       "    </tr>\n",
       "    <tr>\n",
       "      <th>917</th>\n",
       "      <td>38</td>\n",
       "      <td>M</td>\n",
       "      <td>NAP</td>\n",
       "      <td>138</td>\n",
       "      <td>175</td>\n",
       "      <td>0</td>\n",
       "      <td>Normal</td>\n",
       "      <td>173</td>\n",
       "      <td>N</td>\n",
       "      <td>0.0</td>\n",
       "      <td>Up</td>\n",
       "      <td>0</td>\n",
       "    </tr>\n",
       "  </tbody>\n",
       "</table>\n",
       "<p>918 rows × 12 columns</p>\n",
       "</div>"
      ],
      "text/plain": [
       "     Age Sex ChestPainType  RestingBP  Cholesterol  FastingBS RestingECG  \\\n",
       "0     40   M           ATA        140          289          0     Normal   \n",
       "1     49   F           NAP        160          180          0     Normal   \n",
       "2     37   M           ATA        130          283          0         ST   \n",
       "3     48   F           ASY        138          214          0     Normal   \n",
       "4     54   M           NAP        150          195          0     Normal   \n",
       "..   ...  ..           ...        ...          ...        ...        ...   \n",
       "913   45   M            TA        110          264          0     Normal   \n",
       "914   68   M           ASY        144          193          1     Normal   \n",
       "915   57   M           ASY        130          131          0     Normal   \n",
       "916   57   F           ATA        130          236          0        LVH   \n",
       "917   38   M           NAP        138          175          0     Normal   \n",
       "\n",
       "     MaxHR ExerciseAngina  Oldpeak ST_Slope  HeartDisease  \n",
       "0      172              N      0.0       Up             0  \n",
       "1      156              N      1.0     Flat             1  \n",
       "2       98              N      0.0       Up             0  \n",
       "3      108              Y      1.5     Flat             1  \n",
       "4      122              N      0.0       Up             0  \n",
       "..     ...            ...      ...      ...           ...  \n",
       "913    132              N      1.2     Flat             1  \n",
       "914    141              N      3.4     Flat             1  \n",
       "915    115              Y      1.2     Flat             1  \n",
       "916    174              N      0.0     Flat             1  \n",
       "917    173              N      0.0       Up             0  \n",
       "\n",
       "[918 rows x 12 columns]"
      ]
     },
     "execution_count": 3,
     "metadata": {},
     "output_type": "execute_result"
    }
   ],
   "source": [
    "dataset"
   ]
  },
  {
   "cell_type": "code",
   "execution_count": null,
   "metadata": {
    "id": "7HTKPchobttR"
   },
   "outputs": [],
   "source": [
    "# dataset.keys()"
   ]
  },
  {
   "cell_type": "code",
   "execution_count": null,
   "metadata": {
    "id": "mkNtdB-bbyW3"
   },
   "outputs": [],
   "source": [
    "# dataset.shape"
   ]
  },
  {
   "cell_type": "code",
   "execution_count": 4,
   "metadata": {
    "executionInfo": {
     "elapsed": 640,
     "status": "ok",
     "timestamp": 1694113881292,
     "user": {
      "displayName": "Alokkumar Bharti",
      "userId": "02061744428922965256"
     },
     "user_tz": -330
    },
    "id": "AU5yhk2pchut"
   },
   "outputs": [],
   "source": [
    "import numpy as np"
   ]
  },
  {
   "cell_type": "code",
   "execution_count": null,
   "metadata": {
    "id": "KEWwGpNecshG"
   },
   "outputs": [],
   "source": [
    "# type(dataset)"
   ]
  },
  {
   "cell_type": "code",
   "execution_count": null,
   "metadata": {
    "id": "09GXUga1c8ny"
   },
   "outputs": [],
   "source": [
    "# dataset.head()"
   ]
  },
  {
   "cell_type": "code",
   "execution_count": null,
   "metadata": {
    "id": "Qoyv18fpdEXA"
   },
   "outputs": [],
   "source": [
    "# dataset.describe()"
   ]
  },
  {
   "cell_type": "code",
   "execution_count": 5,
   "metadata": {
    "executionInfo": {
     "elapsed": 704,
     "status": "ok",
     "timestamp": 1694113883783,
     "user": {
      "displayName": "Alokkumar Bharti",
      "userId": "02061744428922965256"
     },
     "user_tz": -330
    },
    "id": "vJoQH8dSlAEx"
   },
   "outputs": [],
   "source": [
    "# remove data with '?'\n",
    "\n",
    "dataset = dataset[~dataset.isin(['?'])]"
   ]
  },
  {
   "cell_type": "code",
   "execution_count": 6,
   "metadata": {
    "executionInfo": {
     "elapsed": 619,
     "status": "ok",
     "timestamp": 1694113889245,
     "user": {
      "displayName": "Alokkumar Bharti",
      "userId": "02061744428922965256"
     },
     "user_tz": -330
    },
    "id": "MqCIsRUOlpiR"
   },
   "outputs": [],
   "source": [
    "# remove data with nan value\n",
    "\n",
    "dataset = dataset.dropna(axis=0)"
   ]
  },
  {
   "cell_type": "code",
   "execution_count": null,
   "metadata": {
    "id": "QErgS6HGOs7B"
   },
   "outputs": [],
   "source": [
    "# print(np.unique(dataset.Sex))\n",
    "# print(np.unique(dataset.ChestPainType))\n",
    "# print(np.unique(dataset.RestingECG))\n",
    "# print(np.unique(dataset.ExerciseAngina))\n",
    "# print(np.unique(dataset.ST_Slope))"
   ]
  },
  {
   "cell_type": "code",
   "execution_count": 7,
   "metadata": {
    "executionInfo": {
     "elapsed": 517,
     "status": "ok",
     "timestamp": 1694113905865,
     "user": {
      "displayName": "Alokkumar Bharti",
      "userId": "02061744428922965256"
     },
     "user_tz": -330
    },
    "id": "QuPSmkOGUalh"
   },
   "outputs": [],
   "source": [
    "\n",
    "dataset.Sex.replace(\n",
    "    {\n",
    "        'F' : 0,\n",
    "        'M' : 1\n",
    "    },\n",
    "    inplace=True\n",
    ")\n",
    "dataset.ChestPainType.replace(\n",
    "    {\n",
    "      'TA' : 0,\n",
    "      'ATA' : 1,\n",
    "      'NAP' : 2,\n",
    "      'ASY' : 3\n",
    "    },\n",
    "    inplace=True\n",
    ")\n",
    "dataset.RestingECG.replace(\n",
    "    {\n",
    "      'Normal' : 0,\n",
    "      'ST' : 1,\n",
    "      'LVH' : 2\n",
    "    },\n",
    "    inplace=True\n",
    ")\n",
    "dataset.ExerciseAngina.replace(\n",
    "    {\n",
    "        'N' : 0,\n",
    "        'Y' : 1\n",
    "    },\n",
    "    inplace=True\n",
    ")\n",
    "dataset.ST_Slope.replace(\n",
    "    {\n",
    "        'Flat' : 0,\n",
    "        'Up' : 1,\n",
    "        'Down' : 2\n",
    "    },\n",
    "    inplace=True\n",
    ")\n"
   ]
  },
  {
   "cell_type": "code",
   "execution_count": null,
   "metadata": {
    "id": "0AIR9hOhRiWE"
   },
   "outputs": [],
   "source": [
    "# data = pd.get_dummies(dataset, columns = ['Sex','ChestPainType','RestingECG','ExerciseAngina','ST_Slope'])\n",
    "# data.drop(['Sex_F','ExerciseAngina_N','ST_Slope_Down','RestingECG_LVH','ChestPainType_NAP'], axis=1, inplace=True)"
   ]
  },
  {
   "cell_type": "code",
   "execution_count": null,
   "metadata": {
    "colab": {
     "base_uri": "https://localhost:8080/"
    },
    "executionInfo": {
     "elapsed": 533,
     "status": "ok",
     "timestamp": 1693636708252,
     "user": {
      "displayName": "Alokkumar Bharti",
      "userId": "02061744428922965256"
     },
     "user_tz": -330
    },
    "id": "_5hJotaEnSqd",
    "outputId": "6edcad64-c482-4268-def8-14306f67e677"
   },
   "outputs": [],
   "source": [
    "# data.keys()"
   ]
  },
  {
   "cell_type": "code",
   "execution_count": 8,
   "metadata": {
    "colab": {
     "base_uri": "https://localhost:8080/",
     "height": 443
    },
    "executionInfo": {
     "elapsed": 745,
     "status": "ok",
     "timestamp": 1693636728737,
     "user": {
      "displayName": "Alokkumar Bharti",
      "userId": "02061744428922965256"
     },
     "user_tz": -330
    },
    "id": "0yIeoBXSRq-w",
    "outputId": "291b1f3f-0cd2-48e5-a157-7b3deab66c0f"
   },
   "outputs": [
    {
     "data": {
      "text/html": [
       "<div>\n",
       "<style scoped>\n",
       "    .dataframe tbody tr th:only-of-type {\n",
       "        vertical-align: middle;\n",
       "    }\n",
       "\n",
       "    .dataframe tbody tr th {\n",
       "        vertical-align: top;\n",
       "    }\n",
       "\n",
       "    .dataframe thead th {\n",
       "        text-align: right;\n",
       "    }\n",
       "</style>\n",
       "<table border=\"1\" class=\"dataframe\">\n",
       "  <thead>\n",
       "    <tr style=\"text-align: right;\">\n",
       "      <th></th>\n",
       "      <th>Age</th>\n",
       "      <th>Sex</th>\n",
       "      <th>ChestPainType</th>\n",
       "      <th>RestingBP</th>\n",
       "      <th>Cholesterol</th>\n",
       "      <th>FastingBS</th>\n",
       "      <th>RestingECG</th>\n",
       "      <th>MaxHR</th>\n",
       "      <th>ExerciseAngina</th>\n",
       "      <th>Oldpeak</th>\n",
       "      <th>ST_Slope</th>\n",
       "      <th>HeartDisease</th>\n",
       "    </tr>\n",
       "  </thead>\n",
       "  <tbody>\n",
       "    <tr>\n",
       "      <th>0</th>\n",
       "      <td>40</td>\n",
       "      <td>1</td>\n",
       "      <td>1</td>\n",
       "      <td>140</td>\n",
       "      <td>289</td>\n",
       "      <td>0</td>\n",
       "      <td>0</td>\n",
       "      <td>172</td>\n",
       "      <td>0</td>\n",
       "      <td>0.0</td>\n",
       "      <td>1</td>\n",
       "      <td>0</td>\n",
       "    </tr>\n",
       "    <tr>\n",
       "      <th>1</th>\n",
       "      <td>49</td>\n",
       "      <td>0</td>\n",
       "      <td>2</td>\n",
       "      <td>160</td>\n",
       "      <td>180</td>\n",
       "      <td>0</td>\n",
       "      <td>0</td>\n",
       "      <td>156</td>\n",
       "      <td>0</td>\n",
       "      <td>1.0</td>\n",
       "      <td>0</td>\n",
       "      <td>1</td>\n",
       "    </tr>\n",
       "    <tr>\n",
       "      <th>2</th>\n",
       "      <td>37</td>\n",
       "      <td>1</td>\n",
       "      <td>1</td>\n",
       "      <td>130</td>\n",
       "      <td>283</td>\n",
       "      <td>0</td>\n",
       "      <td>1</td>\n",
       "      <td>98</td>\n",
       "      <td>0</td>\n",
       "      <td>0.0</td>\n",
       "      <td>1</td>\n",
       "      <td>0</td>\n",
       "    </tr>\n",
       "    <tr>\n",
       "      <th>3</th>\n",
       "      <td>48</td>\n",
       "      <td>0</td>\n",
       "      <td>3</td>\n",
       "      <td>138</td>\n",
       "      <td>214</td>\n",
       "      <td>0</td>\n",
       "      <td>0</td>\n",
       "      <td>108</td>\n",
       "      <td>1</td>\n",
       "      <td>1.5</td>\n",
       "      <td>0</td>\n",
       "      <td>1</td>\n",
       "    </tr>\n",
       "    <tr>\n",
       "      <th>4</th>\n",
       "      <td>54</td>\n",
       "      <td>1</td>\n",
       "      <td>2</td>\n",
       "      <td>150</td>\n",
       "      <td>195</td>\n",
       "      <td>0</td>\n",
       "      <td>0</td>\n",
       "      <td>122</td>\n",
       "      <td>0</td>\n",
       "      <td>0.0</td>\n",
       "      <td>1</td>\n",
       "      <td>0</td>\n",
       "    </tr>\n",
       "    <tr>\n",
       "      <th>...</th>\n",
       "      <td>...</td>\n",
       "      <td>...</td>\n",
       "      <td>...</td>\n",
       "      <td>...</td>\n",
       "      <td>...</td>\n",
       "      <td>...</td>\n",
       "      <td>...</td>\n",
       "      <td>...</td>\n",
       "      <td>...</td>\n",
       "      <td>...</td>\n",
       "      <td>...</td>\n",
       "      <td>...</td>\n",
       "    </tr>\n",
       "    <tr>\n",
       "      <th>913</th>\n",
       "      <td>45</td>\n",
       "      <td>1</td>\n",
       "      <td>0</td>\n",
       "      <td>110</td>\n",
       "      <td>264</td>\n",
       "      <td>0</td>\n",
       "      <td>0</td>\n",
       "      <td>132</td>\n",
       "      <td>0</td>\n",
       "      <td>1.2</td>\n",
       "      <td>0</td>\n",
       "      <td>1</td>\n",
       "    </tr>\n",
       "    <tr>\n",
       "      <th>914</th>\n",
       "      <td>68</td>\n",
       "      <td>1</td>\n",
       "      <td>3</td>\n",
       "      <td>144</td>\n",
       "      <td>193</td>\n",
       "      <td>1</td>\n",
       "      <td>0</td>\n",
       "      <td>141</td>\n",
       "      <td>0</td>\n",
       "      <td>3.4</td>\n",
       "      <td>0</td>\n",
       "      <td>1</td>\n",
       "    </tr>\n",
       "    <tr>\n",
       "      <th>915</th>\n",
       "      <td>57</td>\n",
       "      <td>1</td>\n",
       "      <td>3</td>\n",
       "      <td>130</td>\n",
       "      <td>131</td>\n",
       "      <td>0</td>\n",
       "      <td>0</td>\n",
       "      <td>115</td>\n",
       "      <td>1</td>\n",
       "      <td>1.2</td>\n",
       "      <td>0</td>\n",
       "      <td>1</td>\n",
       "    </tr>\n",
       "    <tr>\n",
       "      <th>916</th>\n",
       "      <td>57</td>\n",
       "      <td>0</td>\n",
       "      <td>1</td>\n",
       "      <td>130</td>\n",
       "      <td>236</td>\n",
       "      <td>0</td>\n",
       "      <td>2</td>\n",
       "      <td>174</td>\n",
       "      <td>0</td>\n",
       "      <td>0.0</td>\n",
       "      <td>0</td>\n",
       "      <td>1</td>\n",
       "    </tr>\n",
       "    <tr>\n",
       "      <th>917</th>\n",
       "      <td>38</td>\n",
       "      <td>1</td>\n",
       "      <td>2</td>\n",
       "      <td>138</td>\n",
       "      <td>175</td>\n",
       "      <td>0</td>\n",
       "      <td>0</td>\n",
       "      <td>173</td>\n",
       "      <td>0</td>\n",
       "      <td>0.0</td>\n",
       "      <td>1</td>\n",
       "      <td>0</td>\n",
       "    </tr>\n",
       "  </tbody>\n",
       "</table>\n",
       "<p>918 rows × 12 columns</p>\n",
       "</div>"
      ],
      "text/plain": [
       "     Age  Sex  ChestPainType  RestingBP  Cholesterol  FastingBS  RestingECG  \\\n",
       "0     40    1              1        140          289          0           0   \n",
       "1     49    0              2        160          180          0           0   \n",
       "2     37    1              1        130          283          0           1   \n",
       "3     48    0              3        138          214          0           0   \n",
       "4     54    1              2        150          195          0           0   \n",
       "..   ...  ...            ...        ...          ...        ...         ...   \n",
       "913   45    1              0        110          264          0           0   \n",
       "914   68    1              3        144          193          1           0   \n",
       "915   57    1              3        130          131          0           0   \n",
       "916   57    0              1        130          236          0           2   \n",
       "917   38    1              2        138          175          0           0   \n",
       "\n",
       "     MaxHR  ExerciseAngina  Oldpeak  ST_Slope  HeartDisease  \n",
       "0      172               0      0.0         1             0  \n",
       "1      156               0      1.0         0             1  \n",
       "2       98               0      0.0         1             0  \n",
       "3      108               1      1.5         0             1  \n",
       "4      122               0      0.0         1             0  \n",
       "..     ...             ...      ...       ...           ...  \n",
       "913    132               0      1.2         0             1  \n",
       "914    141               0      3.4         0             1  \n",
       "915    115               1      1.2         0             1  \n",
       "916    174               0      0.0         0             1  \n",
       "917    173               0      0.0         1             0  \n",
       "\n",
       "[918 rows x 12 columns]"
      ]
     },
     "execution_count": 8,
     "metadata": {},
     "output_type": "execute_result"
    }
   ],
   "source": [
    "dataset"
   ]
  },
  {
   "cell_type": "code",
   "execution_count": 23,
   "metadata": {
    "executionInfo": {
     "elapsed": 663,
     "status": "ok",
     "timestamp": 1694113932739,
     "user": {
      "displayName": "Alokkumar Bharti",
      "userId": "02061744428922965256"
     },
     "user_tz": -330
    },
    "id": "sXgA7cqTnEbp"
   },
   "outputs": [],
   "source": [
    "from matplotlib import pyplot as plt"
   ]
  },
  {
   "cell_type": "code",
   "execution_count": null,
   "metadata": {
    "colab": {
     "base_uri": "https://localhost:8080/",
     "height": 853
    },
    "executionInfo": {
     "elapsed": 2634,
     "status": "ok",
     "timestamp": 1694113938284,
     "user": {
      "displayName": "Alokkumar Bharti",
      "userId": "02061744428922965256"
     },
     "user_tz": -330
    },
    "id": "ABgnwT6slv-s",
    "outputId": "0e42f4d0-a07c-4552-bd3b-3aedcabce0f6"
   },
   "outputs": [],
   "source": [
    "# dataset.hist(figsize = (10, 10))\n",
    "# plt.show()"
   ]
  },
  {
   "cell_type": "code",
   "execution_count": null,
   "metadata": {
    "colab": {
     "base_uri": "https://localhost:8080/",
     "height": 141
    },
    "executionInfo": {
     "elapsed": 538,
     "status": "error",
     "timestamp": 1694114564944,
     "user": {
      "displayName": "Alokkumar Bharti",
      "userId": "02061744428922965256"
     },
     "user_tz": -330
    },
    "id": "Hknp6zMQrWWS",
    "outputId": "572cb59c-e6a0-4a77-e373-097ca9e373bb"
   },
   "outputs": [],
   "source": [
    "# pd.crosstab(dataset.Age,dataset.HeartDisease).plot(kind=\"bar\",figsize=(16,4))\n",
    "# plt.title('Heart Disease Frequency for Ages')\n",
    "# plt.xlabel('Age')\n",
    "# plt.ylabel('Frequency')\n",
    "# plt.show()"
   ]
  },
  {
   "cell_type": "code",
   "execution_count": 9,
   "metadata": {
    "executionInfo": {
     "elapsed": 553,
     "status": "ok",
     "timestamp": 1694114129230,
     "user": {
      "displayName": "Alokkumar Bharti",
      "userId": "02061744428922965256"
     },
     "user_tz": -330
    },
    "id": "DyRDMwzIEgVn"
   },
   "outputs": [],
   "source": [
    "data = dataset"
   ]
  },
  {
   "cell_type": "code",
   "execution_count": 10,
   "metadata": {
    "colab": {
     "base_uri": "https://localhost:8080/"
    },
    "executionInfo": {
     "elapsed": 660,
     "status": "ok",
     "timestamp": 1694114131535,
     "user": {
      "displayName": "Alokkumar Bharti",
      "userId": "02061744428922965256"
     },
     "user_tz": -330
    },
    "id": "n0aQDvhymDrZ",
    "outputId": "aa75f32a-b16c-4b6c-8653-2fc289a24831"
   },
   "outputs": [
    {
     "name": "stderr",
     "output_type": "stream",
     "text": [
      "C:\\Users\\Alok Kumar\\AppData\\Local\\Temp\\ipykernel_1488\\4175863221.py:1: FutureWarning: In a future version of pandas all arguments of DataFrame.drop except for the argument 'labels' will be keyword-only.\n",
      "  x = np.array(data.drop(['HeartDisease'],1))\n"
     ]
    }
   ],
   "source": [
    "x = np.array(data.drop(['HeartDisease'],1))\n",
    "y = np.array(data['HeartDisease'])"
   ]
  },
  {
   "cell_type": "code",
   "execution_count": null,
   "metadata": {
    "id": "xtLlfiQYzI8r"
   },
   "outputs": [],
   "source": [
    "# np.unique(y)"
   ]
  },
  {
   "cell_type": "code",
   "execution_count": null,
   "metadata": {
    "id": "qkJmbeHFXNuR"
   },
   "outputs": [],
   "source": [
    "# data = data.apply(pd.to_numeric)\n",
    "# data.dtypes"
   ]
  },
  {
   "cell_type": "code",
   "execution_count": 11,
   "metadata": {
    "executionInfo": {
     "elapsed": 658,
     "status": "ok",
     "timestamp": 1694114135331,
     "user": {
      "displayName": "Alokkumar Bharti",
      "userId": "02061744428922965256"
     },
     "user_tz": -330
    },
    "id": "KYMY26vNak2A"
   },
   "outputs": [],
   "source": [
    "from sklearn.preprocessing import StandardScaler\n",
    "\n",
    "scaler = StandardScaler()\n",
    "X = scaler.fit_transform(x)\n",
    "# X"
   ]
  },
  {
   "cell_type": "code",
   "execution_count": 12,
   "metadata": {
    "executionInfo": {
     "elapsed": 623,
     "status": "ok",
     "timestamp": 1694114137799,
     "user": {
      "displayName": "Alokkumar Bharti",
      "userId": "02061744428922965256"
     },
     "user_tz": -330
    },
    "id": "mILjxikhqXgx"
   },
   "outputs": [],
   "source": [
    "from sklearn.model_selection import train_test_split"
   ]
  },
  {
   "cell_type": "code",
   "execution_count": 13,
   "metadata": {
    "executionInfo": {
     "elapsed": 4,
     "status": "ok",
     "timestamp": 1694114138519,
     "user": {
      "displayName": "Alokkumar Bharti",
      "userId": "02061744428922965256"
     },
     "user_tz": -330
    },
    "id": "UrWzosXjsjSt"
   },
   "outputs": [],
   "source": [
    "x_train, x_test, y_train, y_test = train_test_split(X, y, random_state=30, test_size = 0.2)"
   ]
  },
  {
   "cell_type": "code",
   "execution_count": null,
   "metadata": {
    "id": "xhuQj1e6voM3"
   },
   "outputs": [],
   "source": [
    "# print(x_train.shape)\n",
    "# print(y_train.shape)\n",
    "# print(x_test.shape)\n",
    "# print(y_test.shape)"
   ]
  },
  {
   "cell_type": "code",
   "execution_count": 14,
   "metadata": {
    "executionInfo": {
     "elapsed": 3615,
     "status": "ok",
     "timestamp": 1694114145868,
     "user": {
      "displayName": "Alokkumar Bharti",
      "userId": "02061744428922965256"
     },
     "user_tz": -330
    },
    "id": "VgAo4eQfyR7Y"
   },
   "outputs": [],
   "source": [
    "from keras.utils.np_utils import to_categorical"
   ]
  },
  {
   "cell_type": "code",
   "execution_count": 15,
   "metadata": {
    "executionInfo": {
     "elapsed": 8,
     "status": "ok",
     "timestamp": 1694114145869,
     "user": {
      "displayName": "Alokkumar Bharti",
      "userId": "02061744428922965256"
     },
     "user_tz": -330
    },
    "id": "h5wP1TBiXbDv"
   },
   "outputs": [],
   "source": [
    "y_train = to_categorical(y_train)\n",
    "y_test = to_categorical(y_test)"
   ]
  },
  {
   "cell_type": "code",
   "execution_count": null,
   "metadata": {
    "id": "LfoUTz4RXtX0"
   },
   "outputs": [],
   "source": [
    "# print(y_train.shape)\n",
    "# print(y_test.shape)"
   ]
  },
  {
   "cell_type": "markdown",
   "metadata": {
    "id": "Mh9TWnCkqOr-"
   },
   "source": [
    "**Model : Neural Network**"
   ]
  },
  {
   "cell_type": "code",
   "execution_count": 16,
   "metadata": {
    "executionInfo": {
     "elapsed": 7,
     "status": "ok",
     "timestamp": 1694114145870,
     "user": {
      "displayName": "Alokkumar Bharti",
      "userId": "02061744428922965256"
     },
     "user_tz": -330
    },
    "id": "TYyhk74LYgJA"
   },
   "outputs": [],
   "source": [
    "from keras.models import Sequential\n",
    "from keras.layers import Dense,Dropout\n",
    "from keras.optimizers import Adam"
   ]
  },
  {
   "cell_type": "code",
   "execution_count": 17,
   "metadata": {
    "executionInfo": {
     "elapsed": 704,
     "status": "ok",
     "timestamp": 1694114179296,
     "user": {
      "displayName": "Alokkumar Bharti",
      "userId": "02061744428922965256"
     },
     "user_tz": -330
    },
    "id": "ROBrWNxkZEFs"
   },
   "outputs": [],
   "source": [
    "def create_model():\n",
    "  model = Sequential()\n",
    "  model.add(Dense(64, input_dim=11, activation='relu'))\n",
    "  model.add(Dropout(0.5))\n",
    "  model.add(Dense(32, activation='relu'))\n",
    "  model.add(Dropout(0.5))\n",
    "  model.add(Dense(16,activation='relu'))\n",
    "  model.add(Dropout(0.5))\n",
    "  model.add(Dense(8,activation='relu'))\n",
    "  model.add(Dropout(0.5))\n",
    "  model.add(Dense(4, activation='relu'))\n",
    "  model.add(Dropout(0.5))\n",
    "  model.add(Dense(2,activation='sigmoid'))\n",
    "\n",
    "  adam = Adam(lr=0.001)\n",
    "  model.compile(loss='categorical_crossentropy', optimizer='rmsprop', metrics=['accuracy'])\n",
    "  return model"
   ]
  },
  {
   "cell_type": "code",
   "execution_count": 18,
   "metadata": {
    "executionInfo": {
     "elapsed": 554,
     "status": "ok",
     "timestamp": 1694114179845,
     "user": {
      "displayName": "Alokkumar Bharti",
      "userId": "02061744428922965256"
     },
     "user_tz": -330
    },
    "id": "_GfKgp9PZ3E8"
   },
   "outputs": [
    {
     "name": "stdout",
     "output_type": "stream",
     "text": [
      "Model: \"sequential\"\n",
      "_________________________________________________________________\n",
      " Layer (type)                Output Shape              Param #   \n",
      "=================================================================\n",
      " dense (Dense)               (None, 64)                768       \n",
      "                                                                 \n",
      " dropout (Dropout)           (None, 64)                0         \n",
      "                                                                 \n",
      " dense_1 (Dense)             (None, 32)                2080      \n",
      "                                                                 \n",
      " dropout_1 (Dropout)         (None, 32)                0         \n",
      "                                                                 \n",
      " dense_2 (Dense)             (None, 16)                528       \n",
      "                                                                 \n",
      " dropout_2 (Dropout)         (None, 16)                0         \n",
      "                                                                 \n",
      " dense_3 (Dense)             (None, 8)                 136       \n",
      "                                                                 \n",
      " dropout_3 (Dropout)         (None, 8)                 0         \n",
      "                                                                 \n",
      " dense_4 (Dense)             (None, 4)                 36        \n",
      "                                                                 \n",
      " dropout_4 (Dropout)         (None, 4)                 0         \n",
      "                                                                 \n",
      " dense_5 (Dense)             (None, 2)                 10        \n",
      "                                                                 \n",
      "=================================================================\n",
      "Total params: 3,558\n",
      "Trainable params: 3,558\n",
      "Non-trainable params: 0\n",
      "_________________________________________________________________\n"
     ]
    },
    {
     "name": "stderr",
     "output_type": "stream",
     "text": [
      "C:\\Users\\Alok Kumar\\AppData\\Local\\Programs\\Python\\Python310\\lib\\site-packages\\keras\\optimizers\\legacy\\adam.py:117: UserWarning: The `lr` argument is deprecated, use `learning_rate` instead.\n",
      "  super().__init__(name, **kwargs)\n"
     ]
    }
   ],
   "source": [
    "model = create_model()\n",
    "model.summary()"
   ]
  },
  {
   "cell_type": "code",
   "execution_count": null,
   "metadata": {
    "id": "aV20zt_faXoN"
   },
   "outputs": [],
   "source": [
    "# type(model)"
   ]
  },
  {
   "cell_type": "code",
   "execution_count": 19,
   "metadata": {
    "executionInfo": {
     "elapsed": 624,
     "status": "ok",
     "timestamp": 1694114149492,
     "user": {
      "displayName": "Alokkumar Bharti",
      "userId": "02061744428922965256"
     },
     "user_tz": -330
    },
    "id": "9SmWCsQMdTtw"
   },
   "outputs": [],
   "source": [
    "batch_size = 20\n",
    "epochs = 100"
   ]
  },
  {
   "cell_type": "code",
   "execution_count": 20,
   "metadata": {
    "colab": {
     "base_uri": "https://localhost:8080/"
    },
    "executionInfo": {
     "elapsed": 16127,
     "status": "ok",
     "timestamp": 1694114199613,
     "user": {
      "displayName": "Alokkumar Bharti",
      "userId": "02061744428922965256"
     },
     "user_tz": -330
    },
    "id": "XWIjFuq7cWCm",
    "outputId": "d3e605d3-1733-49b8-c777-b618c95e3336"
   },
   "outputs": [
    {
     "name": "stdout",
     "output_type": "stream",
     "text": [
      "Epoch 1/100\n",
      "37/37 [==============================] - 2s 18ms/step - loss: 0.9899 - accuracy: 0.4973 - val_loss: 0.6829 - val_accuracy: 0.5978\n",
      "Epoch 2/100\n",
      "37/37 [==============================] - 0s 7ms/step - loss: 0.7617 - accuracy: 0.5068 - val_loss: 0.6876 - val_accuracy: 0.5326\n",
      "Epoch 3/100\n",
      "37/37 [==============================] - 0s 7ms/step - loss: 0.7325 - accuracy: 0.5014 - val_loss: 0.6916 - val_accuracy: 0.5000\n",
      "Epoch 4/100\n",
      "37/37 [==============================] - 0s 6ms/step - loss: 0.6998 - accuracy: 0.5014 - val_loss: 0.6926 - val_accuracy: 0.5000\n",
      "Epoch 5/100\n",
      "37/37 [==============================] - 0s 7ms/step - loss: 0.6879 - accuracy: 0.5245 - val_loss: 0.6933 - val_accuracy: 0.4837\n",
      "Epoch 6/100\n",
      "37/37 [==============================] - 0s 6ms/step - loss: 0.6809 - accuracy: 0.5191 - val_loss: 0.6919 - val_accuracy: 0.5054\n",
      "Epoch 7/100\n",
      "37/37 [==============================] - 0s 6ms/step - loss: 0.6879 - accuracy: 0.5259 - val_loss: 0.6925 - val_accuracy: 0.5109\n",
      "Epoch 8/100\n",
      "37/37 [==============================] - 0s 6ms/step - loss: 0.6879 - accuracy: 0.5150 - val_loss: 0.6922 - val_accuracy: 0.5326\n",
      "Epoch 9/100\n",
      "37/37 [==============================] - 0s 6ms/step - loss: 0.6697 - accuracy: 0.5422 - val_loss: 0.6917 - val_accuracy: 0.5109\n",
      "Epoch 10/100\n",
      "37/37 [==============================] - 0s 6ms/step - loss: 0.6662 - accuracy: 0.5504 - val_loss: 0.6869 - val_accuracy: 0.5870\n",
      "Epoch 11/100\n",
      "37/37 [==============================] - 0s 6ms/step - loss: 0.6578 - accuracy: 0.5490 - val_loss: 0.6842 - val_accuracy: 0.6630\n",
      "Epoch 12/100\n",
      "37/37 [==============================] - 0s 7ms/step - loss: 0.6636 - accuracy: 0.5518 - val_loss: 0.6833 - val_accuracy: 0.6739\n",
      "Epoch 13/100\n",
      "37/37 [==============================] - 0s 8ms/step - loss: 0.6392 - accuracy: 0.5954 - val_loss: 0.6711 - val_accuracy: 0.7446\n",
      "Epoch 14/100\n",
      "37/37 [==============================] - 0s 7ms/step - loss: 0.6399 - accuracy: 0.6049 - val_loss: 0.6598 - val_accuracy: 0.7880\n",
      "Epoch 15/100\n",
      "37/37 [==============================] - 0s 8ms/step - loss: 0.6478 - accuracy: 0.5559 - val_loss: 0.6574 - val_accuracy: 0.7989\n",
      "Epoch 16/100\n",
      "37/37 [==============================] - 0s 7ms/step - loss: 0.6299 - accuracy: 0.6063 - val_loss: 0.6392 - val_accuracy: 0.8370\n",
      "Epoch 17/100\n",
      "37/37 [==============================] - 0s 7ms/step - loss: 0.6500 - accuracy: 0.6063 - val_loss: 0.6309 - val_accuracy: 0.8315\n",
      "Epoch 18/100\n",
      "37/37 [==============================] - 0s 6ms/step - loss: 0.6269 - accuracy: 0.6308 - val_loss: 0.6237 - val_accuracy: 0.8315\n",
      "Epoch 19/100\n",
      "37/37 [==============================] - 0s 6ms/step - loss: 0.6198 - accuracy: 0.6144 - val_loss: 0.6060 - val_accuracy: 0.8152\n",
      "Epoch 20/100\n",
      "37/37 [==============================] - 0s 6ms/step - loss: 0.6370 - accuracy: 0.6308 - val_loss: 0.5905 - val_accuracy: 0.8261\n",
      "Epoch 21/100\n",
      "37/37 [==============================] - 0s 6ms/step - loss: 0.6603 - accuracy: 0.6063 - val_loss: 0.6064 - val_accuracy: 0.8152\n",
      "Epoch 22/100\n",
      "37/37 [==============================] - 0s 6ms/step - loss: 0.6261 - accuracy: 0.6431 - val_loss: 0.5899 - val_accuracy: 0.8152\n",
      "Epoch 23/100\n",
      "37/37 [==============================] - 0s 6ms/step - loss: 0.6539 - accuracy: 0.6267 - val_loss: 0.5984 - val_accuracy: 0.8098\n",
      "Epoch 24/100\n",
      "37/37 [==============================] - 0s 6ms/step - loss: 0.6379 - accuracy: 0.6294 - val_loss: 0.5971 - val_accuracy: 0.8152\n",
      "Epoch 25/100\n",
      "37/37 [==============================] - 0s 6ms/step - loss: 0.6247 - accuracy: 0.6594 - val_loss: 0.5744 - val_accuracy: 0.8315\n",
      "Epoch 26/100\n",
      "37/37 [==============================] - 0s 8ms/step - loss: 0.6025 - accuracy: 0.6540 - val_loss: 0.5432 - val_accuracy: 0.8533\n",
      "Epoch 27/100\n",
      "37/37 [==============================] - 0s 8ms/step - loss: 0.6552 - accuracy: 0.6376 - val_loss: 0.5578 - val_accuracy: 0.8370\n",
      "Epoch 28/100\n",
      "37/37 [==============================] - 0s 8ms/step - loss: 0.5913 - accuracy: 0.6839 - val_loss: 0.5318 - val_accuracy: 0.8533\n",
      "Epoch 29/100\n",
      "37/37 [==============================] - 0s 8ms/step - loss: 0.6545 - accuracy: 0.6812 - val_loss: 0.5368 - val_accuracy: 0.8478\n",
      "Epoch 30/100\n",
      "37/37 [==============================] - 0s 8ms/step - loss: 0.5994 - accuracy: 0.6798 - val_loss: 0.5267 - val_accuracy: 0.8478\n",
      "Epoch 31/100\n",
      "37/37 [==============================] - 0s 8ms/step - loss: 0.6100 - accuracy: 0.6689 - val_loss: 0.5217 - val_accuracy: 0.8533\n",
      "Epoch 32/100\n",
      "37/37 [==============================] - 0s 7ms/step - loss: 0.6121 - accuracy: 0.7071 - val_loss: 0.5150 - val_accuracy: 0.8424\n",
      "Epoch 33/100\n",
      "37/37 [==============================] - 0s 6ms/step - loss: 0.5888 - accuracy: 0.6839 - val_loss: 0.5121 - val_accuracy: 0.8424\n",
      "Epoch 34/100\n",
      "37/37 [==============================] - 0s 6ms/step - loss: 0.5883 - accuracy: 0.7030 - val_loss: 0.5114 - val_accuracy: 0.8370\n",
      "Epoch 35/100\n",
      "37/37 [==============================] - 0s 6ms/step - loss: 0.6134 - accuracy: 0.6975 - val_loss: 0.5137 - val_accuracy: 0.8207\n",
      "Epoch 36/100\n",
      "37/37 [==============================] - 0s 6ms/step - loss: 0.5984 - accuracy: 0.6989 - val_loss: 0.5018 - val_accuracy: 0.8315\n",
      "Epoch 37/100\n",
      "37/37 [==============================] - 0s 6ms/step - loss: 0.5743 - accuracy: 0.7044 - val_loss: 0.4940 - val_accuracy: 0.8315\n",
      "Epoch 38/100\n",
      "37/37 [==============================] - 0s 6ms/step - loss: 0.5523 - accuracy: 0.7357 - val_loss: 0.4732 - val_accuracy: 0.8424\n",
      "Epoch 39/100\n",
      "37/37 [==============================] - 0s 8ms/step - loss: 0.5982 - accuracy: 0.7166 - val_loss: 0.4770 - val_accuracy: 0.8478\n",
      "Epoch 40/100\n",
      "37/37 [==============================] - 0s 8ms/step - loss: 0.5976 - accuracy: 0.7289 - val_loss: 0.4722 - val_accuracy: 0.8587\n",
      "Epoch 41/100\n",
      "37/37 [==============================] - 0s 7ms/step - loss: 0.5562 - accuracy: 0.7357 - val_loss: 0.4666 - val_accuracy: 0.8478\n",
      "Epoch 42/100\n",
      "37/37 [==============================] - 0s 8ms/step - loss: 0.5981 - accuracy: 0.7180 - val_loss: 0.4628 - val_accuracy: 0.8424\n",
      "Epoch 43/100\n",
      "37/37 [==============================] - 0s 8ms/step - loss: 0.5981 - accuracy: 0.7234 - val_loss: 0.4624 - val_accuracy: 0.8478\n",
      "Epoch 44/100\n",
      "37/37 [==============================] - 0s 7ms/step - loss: 0.5787 - accuracy: 0.7030 - val_loss: 0.4741 - val_accuracy: 0.8370\n",
      "Epoch 45/100\n",
      "37/37 [==============================] - 0s 6ms/step - loss: 0.6214 - accuracy: 0.7044 - val_loss: 0.4749 - val_accuracy: 0.8370\n",
      "Epoch 46/100\n",
      "37/37 [==============================] - 0s 7ms/step - loss: 0.5653 - accuracy: 0.7262 - val_loss: 0.4640 - val_accuracy: 0.8478\n",
      "Epoch 47/100\n",
      "37/37 [==============================] - 0s 7ms/step - loss: 0.5552 - accuracy: 0.7302 - val_loss: 0.4502 - val_accuracy: 0.8424\n",
      "Epoch 48/100\n",
      "37/37 [==============================] - 0s 8ms/step - loss: 0.6186 - accuracy: 0.7071 - val_loss: 0.4457 - val_accuracy: 0.8478\n",
      "Epoch 49/100\n",
      "37/37 [==============================] - 0s 7ms/step - loss: 0.5274 - accuracy: 0.7398 - val_loss: 0.4251 - val_accuracy: 0.8696\n",
      "Epoch 50/100\n",
      "37/37 [==============================] - 0s 8ms/step - loss: 0.6415 - accuracy: 0.7248 - val_loss: 0.4307 - val_accuracy: 0.8587\n",
      "Epoch 51/100\n",
      "37/37 [==============================] - 0s 9ms/step - loss: 0.5307 - accuracy: 0.7670 - val_loss: 0.4274 - val_accuracy: 0.8533\n",
      "Epoch 52/100\n",
      "37/37 [==============================] - 0s 6ms/step - loss: 0.5441 - accuracy: 0.7602 - val_loss: 0.4220 - val_accuracy: 0.8533\n",
      "Epoch 53/100\n",
      "37/37 [==============================] - 0s 6ms/step - loss: 0.5240 - accuracy: 0.7616 - val_loss: 0.4183 - val_accuracy: 0.8533\n",
      "Epoch 54/100\n",
      "37/37 [==============================] - 0s 6ms/step - loss: 0.5540 - accuracy: 0.7589 - val_loss: 0.4150 - val_accuracy: 0.8587\n",
      "Epoch 55/100\n",
      "37/37 [==============================] - 0s 6ms/step - loss: 0.5337 - accuracy: 0.7534 - val_loss: 0.4076 - val_accuracy: 0.8533\n",
      "Epoch 56/100\n",
      "37/37 [==============================] - 0s 6ms/step - loss: 0.5683 - accuracy: 0.7616 - val_loss: 0.4150 - val_accuracy: 0.8533\n",
      "Epoch 57/100\n",
      "37/37 [==============================] - 0s 6ms/step - loss: 0.5196 - accuracy: 0.7493 - val_loss: 0.4064 - val_accuracy: 0.8641\n",
      "Epoch 58/100\n",
      "37/37 [==============================] - 0s 6ms/step - loss: 0.5611 - accuracy: 0.7548 - val_loss: 0.4079 - val_accuracy: 0.8587\n"
     ]
    },
    {
     "name": "stdout",
     "output_type": "stream",
     "text": [
      "Epoch 59/100\n",
      "37/37 [==============================] - 0s 6ms/step - loss: 0.5659 - accuracy: 0.7371 - val_loss: 0.4112 - val_accuracy: 0.8533\n",
      "Epoch 60/100\n",
      "37/37 [==============================] - 0s 7ms/step - loss: 0.5530 - accuracy: 0.7262 - val_loss: 0.4105 - val_accuracy: 0.8587\n",
      "Epoch 61/100\n",
      "37/37 [==============================] - 0s 6ms/step - loss: 0.5500 - accuracy: 0.7820 - val_loss: 0.4040 - val_accuracy: 0.8696\n",
      "Epoch 62/100\n",
      "37/37 [==============================] - 0s 7ms/step - loss: 0.5125 - accuracy: 0.7561 - val_loss: 0.4002 - val_accuracy: 0.8641\n",
      "Epoch 63/100\n",
      "37/37 [==============================] - 0s 7ms/step - loss: 0.5817 - accuracy: 0.7520 - val_loss: 0.4038 - val_accuracy: 0.8533\n",
      "Epoch 64/100\n",
      "37/37 [==============================] - 0s 7ms/step - loss: 0.5783 - accuracy: 0.7316 - val_loss: 0.4070 - val_accuracy: 0.8641\n",
      "Epoch 65/100\n",
      "37/37 [==============================] - 0s 7ms/step - loss: 0.5572 - accuracy: 0.7398 - val_loss: 0.4017 - val_accuracy: 0.8641\n",
      "Epoch 66/100\n",
      "37/37 [==============================] - 0s 6ms/step - loss: 0.5521 - accuracy: 0.7357 - val_loss: 0.3990 - val_accuracy: 0.8750\n",
      "Epoch 67/100\n",
      "37/37 [==============================] - 0s 6ms/step - loss: 0.5396 - accuracy: 0.7793 - val_loss: 0.3997 - val_accuracy: 0.8696\n",
      "Epoch 68/100\n",
      "37/37 [==============================] - 0s 7ms/step - loss: 0.5472 - accuracy: 0.7602 - val_loss: 0.3989 - val_accuracy: 0.8641\n",
      "Epoch 69/100\n",
      "37/37 [==============================] - 0s 6ms/step - loss: 0.5607 - accuracy: 0.7534 - val_loss: 0.3994 - val_accuracy: 0.8750\n",
      "Epoch 70/100\n",
      "37/37 [==============================] - 0s 6ms/step - loss: 0.5644 - accuracy: 0.7779 - val_loss: 0.4049 - val_accuracy: 0.8696\n",
      "Epoch 71/100\n",
      "37/37 [==============================] - 0s 6ms/step - loss: 0.5118 - accuracy: 0.7602 - val_loss: 0.3943 - val_accuracy: 0.8804\n",
      "Epoch 72/100\n",
      "37/37 [==============================] - 0s 7ms/step - loss: 0.5483 - accuracy: 0.7589 - val_loss: 0.3970 - val_accuracy: 0.8750\n",
      "Epoch 73/100\n",
      "37/37 [==============================] - 0s 7ms/step - loss: 0.5276 - accuracy: 0.7452 - val_loss: 0.3936 - val_accuracy: 0.8696\n",
      "Epoch 74/100\n",
      "37/37 [==============================] - 0s 7ms/step - loss: 0.5217 - accuracy: 0.7807 - val_loss: 0.3908 - val_accuracy: 0.8696\n",
      "Epoch 75/100\n",
      "37/37 [==============================] - 0s 7ms/step - loss: 0.5281 - accuracy: 0.7629 - val_loss: 0.3866 - val_accuracy: 0.8750\n",
      "Epoch 76/100\n",
      "37/37 [==============================] - 0s 7ms/step - loss: 0.5405 - accuracy: 0.7711 - val_loss: 0.3861 - val_accuracy: 0.8696\n",
      "Epoch 77/100\n",
      "37/37 [==============================] - 0s 7ms/step - loss: 0.5472 - accuracy: 0.7561 - val_loss: 0.3840 - val_accuracy: 0.8696\n",
      "Epoch 78/100\n",
      "37/37 [==============================] - 0s 7ms/step - loss: 0.5018 - accuracy: 0.7834 - val_loss: 0.3814 - val_accuracy: 0.8641\n",
      "Epoch 79/100\n",
      "37/37 [==============================] - 0s 7ms/step - loss: 0.5567 - accuracy: 0.7807 - val_loss: 0.3832 - val_accuracy: 0.8804\n",
      "Epoch 80/100\n",
      "37/37 [==============================] - 0s 7ms/step - loss: 0.5446 - accuracy: 0.7507 - val_loss: 0.3826 - val_accuracy: 0.8804\n",
      "Epoch 81/100\n",
      "37/37 [==============================] - 0s 7ms/step - loss: 0.5452 - accuracy: 0.7738 - val_loss: 0.3820 - val_accuracy: 0.8804\n",
      "Epoch 82/100\n",
      "37/37 [==============================] - 0s 7ms/step - loss: 0.4948 - accuracy: 0.7629 - val_loss: 0.3786 - val_accuracy: 0.8804\n",
      "Epoch 83/100\n",
      "37/37 [==============================] - 0s 7ms/step - loss: 0.5142 - accuracy: 0.7956 - val_loss: 0.3764 - val_accuracy: 0.8859\n",
      "Epoch 84/100\n",
      "37/37 [==============================] - 0s 6ms/step - loss: 0.5324 - accuracy: 0.7738 - val_loss: 0.3761 - val_accuracy: 0.8804\n",
      "Epoch 85/100\n",
      "37/37 [==============================] - 0s 7ms/step - loss: 0.5642 - accuracy: 0.7575 - val_loss: 0.3798 - val_accuracy: 0.8750\n",
      "Epoch 86/100\n",
      "37/37 [==============================] - 0s 7ms/step - loss: 0.5370 - accuracy: 0.7698 - val_loss: 0.3798 - val_accuracy: 0.8750\n",
      "Epoch 87/100\n",
      "37/37 [==============================] - 0s 7ms/step - loss: 0.5043 - accuracy: 0.7793 - val_loss: 0.3752 - val_accuracy: 0.8913\n",
      "Epoch 88/100\n",
      "37/37 [==============================] - 0s 7ms/step - loss: 0.5472 - accuracy: 0.7711 - val_loss: 0.3765 - val_accuracy: 0.8696\n",
      "Epoch 89/100\n",
      "37/37 [==============================] - 0s 8ms/step - loss: 0.5605 - accuracy: 0.7575 - val_loss: 0.3768 - val_accuracy: 0.8859\n",
      "Epoch 90/100\n",
      "37/37 [==============================] - 0s 6ms/step - loss: 0.5272 - accuracy: 0.7834 - val_loss: 0.3769 - val_accuracy: 0.8859\n",
      "Epoch 91/100\n",
      "37/37 [==============================] - 0s 7ms/step - loss: 0.4890 - accuracy: 0.7875 - val_loss: 0.3716 - val_accuracy: 0.8696\n",
      "Epoch 92/100\n",
      "37/37 [==============================] - 0s 7ms/step - loss: 0.4965 - accuracy: 0.7902 - val_loss: 0.3702 - val_accuracy: 0.8859\n",
      "Epoch 93/100\n",
      "37/37 [==============================] - 0s 7ms/step - loss: 0.4874 - accuracy: 0.7916 - val_loss: 0.3691 - val_accuracy: 0.8804\n",
      "Epoch 94/100\n",
      "37/37 [==============================] - 0s 6ms/step - loss: 0.5110 - accuracy: 0.7793 - val_loss: 0.3707 - val_accuracy: 0.8804\n",
      "Epoch 95/100\n",
      "37/37 [==============================] - 0s 7ms/step - loss: 0.4719 - accuracy: 0.7929 - val_loss: 0.3685 - val_accuracy: 0.8804\n",
      "Epoch 96/100\n",
      "37/37 [==============================] - 0s 7ms/step - loss: 0.5398 - accuracy: 0.7847 - val_loss: 0.3680 - val_accuracy: 0.8804\n",
      "Epoch 97/100\n",
      "37/37 [==============================] - 0s 7ms/step - loss: 0.5000 - accuracy: 0.7779 - val_loss: 0.3683 - val_accuracy: 0.8804\n",
      "Epoch 98/100\n",
      "37/37 [==============================] - 0s 7ms/step - loss: 0.4990 - accuracy: 0.7847 - val_loss: 0.3659 - val_accuracy: 0.8804\n",
      "Epoch 99/100\n",
      "37/37 [==============================] - 0s 6ms/step - loss: 0.5109 - accuracy: 0.7698 - val_loss: 0.3663 - val_accuracy: 0.8804\n",
      "Epoch 100/100\n",
      "37/37 [==============================] - 0s 6ms/step - loss: 0.5215 - accuracy: 0.7861 - val_loss: 0.3662 - val_accuracy: 0.8804\n"
     ]
    }
   ],
   "source": [
    "training = model.fit(x_train,\n",
    "                    y_train,\n",
    "                    batch_size = batch_size,\n",
    "                    epochs = epochs,\n",
    "                    validation_data =(x_test,y_test))"
   ]
  },
  {
   "cell_type": "code",
   "execution_count": 21,
   "metadata": {
    "colab": {
     "base_uri": "https://localhost:8080/"
    },
    "executionInfo": {
     "elapsed": 23,
     "status": "ok",
     "timestamp": 1694114199613,
     "user": {
      "displayName": "Alokkumar Bharti",
      "userId": "02061744428922965256"
     },
     "user_tz": -330
    },
    "id": "rIL-Vgtoe6En",
    "outputId": "95aade69-0d51-4042-8aed-5a39586122f5"
   },
   "outputs": [
    {
     "name": "stdout",
     "output_type": "stream",
     "text": [
      "6/6 [==============================] - 0s 4ms/step - loss: 0.3662 - accuracy: 0.8804\n"
     ]
    },
    {
     "data": {
      "text/plain": [
       "[0.3662128448486328, 0.8804348111152649]"
      ]
     },
     "execution_count": 21,
     "metadata": {},
     "output_type": "execute_result"
    }
   ],
   "source": [
    "score = model.evaluate(x_test, y_test, verbose = 1)\n",
    "# test loss and test accuracy\n",
    "score"
   ]
  },
  {
   "cell_type": "code",
   "execution_count": 24,
   "metadata": {
    "id": "y9s60gY5e0vr"
   },
   "outputs": [
    {
     "data": {
      "image/png": "[encoded data removed]",
      "text/plain": [
       "<Figure size 640x480 with 2 Axes>"
      ]
     },
     "metadata": {},
     "output_type": "display_data"
    }
   ],
   "source": [
    "# model accuracy and loss\n",
    "fig, ax = plt.subplots(2,1)\n",
    "ax[0].plot(training.history['loss'], color='b', label=\"Training loss\")\n",
    "ax[0].plot(training.history['val_loss'], color='r', label=\"validation loss\",axes =ax[0])\n",
    "legend = ax[0].legend(loc='best', shadow=True)\n",
    "\n",
    "ax[1].plot(training.history['accuracy'], color='b', label=\"Training accuracy\")\n",
    "ax[1].plot(training.history['val_accuracy'], color='r',label=\"Validation accuracy\")\n",
    "legend = ax[1].legend(loc='best', shadow=True)"
   ]
  },
  {
   "cell_type": "code",
   "execution_count": 25,
   "metadata": {
    "executionInfo": {
     "elapsed": 530,
     "status": "ok",
     "timestamp": 1694114206476,
     "user": {
      "displayName": "Alokkumar Bharti",
      "userId": "02061744428922965256"
     },
     "user_tz": -330
    },
    "id": "yjvDO2lDiADo"
   },
   "outputs": [],
   "source": [
    "label = ['false','true']"
   ]
  },
  {
   "cell_type": "code",
   "execution_count": 41,
   "metadata": {
    "colab": {
     "base_uri": "https://localhost:8080/"
    },
    "executionInfo": {
     "elapsed": 620,
     "status": "ok",
     "timestamp": 1694114225265,
     "user": {
      "displayName": "Alokkumar Bharti",
      "userId": "02061744428922965256"
     },
     "user_tz": -330
    },
    "id": "YiDbZa2th_4Q",
    "outputId": "731d7f5a-a63c-43c9-bfe2-345bdd879ab2"
   },
   "outputs": [
    {
     "name": "stdout",
     "output_type": "stream",
     "text": [
      "1/1 [==============================] - 0s 87ms/step\n"
     ]
    }
   ],
   "source": [
    "result = model.predict([[48,0,3,138,214,0,0,108,1,1.5,1]])"
   ]
  },
  {
   "cell_type": "code",
   "execution_count": 42,
   "metadata": {
    "executionInfo": {
     "elapsed": 4,
     "status": "ok",
     "timestamp": 1694114226974,
     "user": {
      "displayName": "Alokkumar Bharti",
      "userId": "02061744428922965256"
     },
     "user_tz": -330
    },
    "id": "LFcF-aXUDhNd"
   },
   "outputs": [
    {
     "name": "stdout",
     "output_type": "stream",
     "text": [
      "[[1. 1.]]\n",
      "1.0\n"
     ]
    }
   ],
   "source": [
    "print(result)\n",
    "print(result[0][0])"
   ]
  },
  {
   "cell_type": "code",
   "execution_count": 43,
   "metadata": {
    "colab": {
     "base_uri": "https://localhost:8080/",
     "height": 35
    },
    "executionInfo": {
     "elapsed": 21,
     "status": "ok",
     "timestamp": 1694114227746,
     "user": {
      "displayName": "Alokkumar Bharti",
      "userId": "02061744428922965256"
     },
     "user_tz": -330
    },
    "id": "TuLMFyi0pean",
    "outputId": "2cefc44e-5925-4d86-b0a1-d8127aacbd0c"
   },
   "outputs": [
    {
     "data": {
      "text/plain": [
       "'true'"
      ]
     },
     "execution_count": 43,
     "metadata": {},
     "output_type": "execute_result"
    }
   ],
   "source": [
    "ind = 0\n",
    "if(result[0][1] <= result[0][1]):\n",
    "  ind = 1\n",
    "label[ind]"
   ]
  },
  {
   "cell_type": "code",
   "execution_count": null,
   "metadata": {
    "colab": {
     "base_uri": "https://localhost:8080/",
     "height": 141
    },
    "executionInfo": {
     "elapsed": 678,
     "status": "error",
     "timestamp": 1694114502160,
     "user": {
      "displayName": "Alokkumar Bharti",
      "userId": "02061744428922965256"
     },
     "user_tz": -330
    },
    "id": "xWzjWfHQFz2g",
    "outputId": "3b758d31-7bc9-43f3-98d3-a990b4779957"
   },
   "outputs": [],
   "source": [
    "matplotlib.pyplot.violinplot(data,\n",
    "                             positions=None, vert=True,\n",
    "                             widths=0.5, showmeans=False,\n",
    "                             showextrema=True, showmedians=False,\n",
    "                             quantiles=None, points=100,\n",
    "                             bw_method=None, *, data=None)"
   ]
  },
  {
   "cell_type": "code",
   "execution_count": 37,
   "metadata": {
    "executionInfo": {
     "elapsed": 946,
     "status": "ok",
     "timestamp": 1694114253212,
     "user": {
      "displayName": "Alokkumar Bharti",
      "userId": "02061744428922965256"
     },
     "user_tz": -330
    },
    "id": "j7_lPvHFd181"
   },
   "outputs": [],
   "source": [
    "import pickle\n",
    "\n",
    "pickle.dump(model,open('model.pkl','wb'))"
   ]
  },
  {
   "cell_type": "code",
   "execution_count": null,
   "metadata": {
    "colab": {
     "base_uri": "https://localhost:8080/"
    },
    "executionInfo": {
     "elapsed": 2378,
     "status": "ok",
     "timestamp": 1692126500482,
     "user": {
      "displayName": "Alokkumar Bharti",
      "userId": "02061744428922965256"
     },
     "user_tz": -330
    },
    "id": "_aNiriIZmB7B",
    "outputId": "edf908ab-fa14-4e5c-ca00-f4954a5f8f56"
   },
   "outputs": [],
   "source": [
    "import tensorflow as tf\n",
    "converter = tf.lite.TFLiteConverter.from_keras_model(model)\n",
    "tfmodel = converter.convert()\n",
    "\n",
    "open('model.tflite','wb').write(tfmodel)"
   ]
  },
  {
   "cell_type": "markdown",
   "metadata": {
    "id": "1XynFYmnDBJK"
   },
   "source": [
    "**Model : Random Forest**"
   ]
  },
  {
   "cell_type": "code",
   "execution_count": null,
   "metadata": {
    "colab": {
     "base_uri": "https://localhost:8080/"
    },
    "executionInfo": {
     "elapsed": 1400,
     "status": "ok",
     "timestamp": 1692124939635,
     "user": {
      "displayName": "Alokkumar Bharti",
      "userId": "02061744428922965256"
     },
     "user_tz": -330
    },
    "id": "omNR-CF3runt",
    "outputId": "e1e1dfab-ae49-4931-f9c9-1a7978b609ca"
   },
   "outputs": [],
   "source": [
    "from sklearn.ensemble import RandomForestClassifier\n",
    "m=RandomForestClassifier()\n",
    "m.fit(x_train,y_train)\n",
    "m.score(x_test,y_test)"
   ]
  },
  {
   "cell_type": "code",
   "execution_count": null,
   "metadata": {
    "id": "j5qjz0PCgX0b"
   },
   "outputs": [],
   "source": []
  }
 ],
 "metadata": {
  "colab": {
   "authorship_tag": "ABX9TyPrHLcJeCsvrQ/rdtD1PJHZ",
   "mount_file_id": "1zzwBJFkaQVR2wkvZh-9RxFm36H4lgQ2h",
   "provenance": []
  },
  "kernelspec": {
   "display_name": "Python 3 (ipykernel)",
   "language": "python",
   "name": "python3"
  },
  "language_info": {
   "codemirror_mode": {
    "name": "ipython",
    "version": 3
   },
   "file_extension": ".py",
   "mimetype": "text/x-python",
   "name": "python",
   "nbconvert_exporter": "python",
   "pygments_lexer": "ipython3",
   "version": "3.10.6"
  }
 },
 "nbformat": 4,
 "nbformat_minor": 1
}
